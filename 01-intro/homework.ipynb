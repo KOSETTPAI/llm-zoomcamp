{
 "cells": [
  {
   "cell_type": "code",
   "execution_count": 1,
   "id": "b885e0d6-cdda-412d-8512-fb7a8775614c",
   "metadata": {},
   "outputs": [],
   "source": [
    "import openai"
   ]
  },
  {
   "cell_type": "code",
   "execution_count": 2,
   "id": "0bf7e5b1-39ab-4295-93ff-475bab1b259e",
   "metadata": {},
   "outputs": [],
   "source": [
    "from openai import OpenAI"
   ]
  },
  {
   "cell_type": "code",
   "execution_count": 3,
   "id": "7be44ead-3a0f-42ed-9b5a-e05aaf447b28",
   "metadata": {},
   "outputs": [],
   "source": [
    "client = OpenAI()"
   ]
  },
  {
   "cell_type": "code",
   "execution_count": 4,
   "id": "9d1e9069-b2cd-4944-a6cf-2086c8df823b",
   "metadata": {},
   "outputs": [],
   "source": [
    "import os"
   ]
  },
  {
   "cell_type": "code",
   "execution_count": 7,
   "id": "4afc3fa9-1f48-4073-9897-3fc18fd07fd8",
   "metadata": {},
   "outputs": [],
   "source": [
    "response = client.chat.completions.create(\n",
    "    model='gpt-4o',\n",
    "    messages = [{'role' : 'user', 'content' : 'is it too late to join the course?'}]\n",
    ")"
   ]
  },
  {
   "cell_type": "code",
   "execution_count": 10,
   "id": "eb991a52-ae01-4fd0-80e0-8693f4fd0e58",
   "metadata": {},
   "outputs": [
    {
     "data": {
      "text/plain": [
       "\"It depends on the specific course and its policies. Here are a few steps you can take to find out if it's too late to join:\\n\\n1. **Check the Course Deadline:** Look for the course registration deadline on the course website or in any informational materials you have.\\n\\n2. **Contact the Instructor or Administration:** Reach out to the course instructor or the administrative office. They can provide you with information on whether it's still possible to join and what steps you need to take.\\n\\n3. **Look for Late Enrollment Options:** Some courses may offer late enrollment or a grace period after the official start date. Ask if this is an option.\\n\\n4. **Consider Online or Self-Paced Alternatives:** If the deadline has passed, look for similar courses that might have rolling admissions or self-paced options.\\n\\n5. **Assess the Impact of Joining Late:** If you are allowed to join after the course has started, consider how much content you have missed and whether you can realistically catch up.\\n\\nTaking these steps should give you a clear answer on whether it's too late to join the course.\""
      ]
     },
     "execution_count": 10,
     "metadata": {},
     "output_type": "execute_result"
    }
   ],
   "source": [
    "response.choices[0].message.content"
   ]
  },
  {
   "cell_type": "code",
   "execution_count": null,
   "id": "d8d41778-6591-4d02-98f4-e6728136e262",
   "metadata": {},
   "outputs": [],
   "source": []
  }
 ],
 "metadata": {
  "kernelspec": {
   "display_name": "Python 3 (ipykernel)",
   "language": "python",
   "name": "python3"
  },
  "language_info": {
   "codemirror_mode": {
    "name": "ipython",
    "version": 3
   },
   "file_extension": ".py",
   "mimetype": "text/x-python",
   "name": "python",
   "nbconvert_exporter": "python",
   "pygments_lexer": "ipython3",
   "version": "3.10.13"
  }
 },
 "nbformat": 4,
 "nbformat_minor": 5
}
